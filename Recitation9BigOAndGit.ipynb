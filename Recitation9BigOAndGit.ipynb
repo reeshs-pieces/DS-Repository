{
  "cells": [
    {
      "cell_type": "markdown",
      "metadata": {
        "id": "view-in-github",
        "colab_type": "text"
      },
      "source": [
        "<a href=\"https://colab.research.google.com/github/reeshs-pieces/DS-Repository/blob/main/Recitation9BigOAndGit.ipynb\" target=\"_parent\"><img src=\"https://colab.research.google.com/assets/colab-badge.svg\" alt=\"Open In Colab\"/></a>"
      ]
    },
    {
      "cell_type": "markdown",
      "metadata": {
        "id": "lyKKxBV07fm5"
      },
      "source": [
        "For each of the following, decide whether $f$ is $o, O, \\Theta, \\Omega$, and/or $\\omega$ of $g$.\n",
        "\n",
        "\n",
        "\n",
        "1.   $f(n) = n, g(n) = 2n$\n",
        "2.   $f(n) = n, g(n) = n \\log n$\n",
        "3.   $f(n) = 3^n, g(n) = 2^n$\n",
        "4. $f(n) = n^{100}, g(n) = 2^n$\n",
        "5. $f(n) = \\log_2 n, g(n) = 100$\n",
        "6. $f(n) = \\log_2 n, g(n) = \\log_2^2 n$ (that's $(\\log n)(\\log n)$)\n",
        "\n"
      ]
    },
    {
      "cell_type": "markdown",
      "metadata": {
        "id": "U4Q20BFz8-az"
      },
      "source": [
        "**TODO**\n",
        "1. f(n) = $O$(g(n))\n",
        "2. f(n) = $O$(g(n))\n",
        "3. f(n) = $\\omega$(g(n))\n",
        "4. f(n) = $\\Omega$(g(n))\n",
        "5. f(n) = $o$(g(n))\n",
        "6. f(n) = $O$(g(n))\n",
        "\n"
      ]
    },
    {
      "cell_type": "markdown",
      "metadata": {
        "id": "zWaZ_sSbRh4Q"
      },
      "source": [
        "For the next part, don't be afraid:  you should try to start a GitHub repository.\n",
        "\n",
        "* Go to github.com and sign up for an account.  When it asks what kinds of things you're interested in, say \"collaborative coding.\"\n",
        "* Once you're signed up, follow the prompts to create your first repository.  It can be private.  Have it start with a README file, then edit this file to say \"Hello, world!\"\n",
        "* Download Github Desktop from https://desktop.github.com/ and follow its tutorial.  If you need a text editor, try Atom from atom.io.  You should try to get to the point where you can add a local file to your repository.\n",
        "* Try using \"File->Save a copy in GitHub\" from Google Colab to save this notebook in your new repository.  Then try using Open Notebook->GitHub to open it again.  You're using Google Colab with GitHub!"
      ]
    }
  ],
  "metadata": {
    "colab": {
      "collapsed_sections": [],
      "name": "Recitation9BigOAndGit.ipynb",
      "provenance": [],
      "include_colab_link": true
    },
    "kernelspec": {
      "display_name": "Python 3 (ipykernel)",
      "language": "python",
      "name": "python3"
    },
    "language_info": {
      "codemirror_mode": {
        "name": "ipython",
        "version": 3
      },
      "file_extension": ".py",
      "mimetype": "text/x-python",
      "name": "python",
      "nbconvert_exporter": "python",
      "pygments_lexer": "ipython3",
      "version": "3.9.7"
    }
  },
  "nbformat": 4,
  "nbformat_minor": 0
}